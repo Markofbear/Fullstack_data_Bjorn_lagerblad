{
 "cells": [
  {
   "cell_type": "markdown",
   "metadata": {},
   "source": [
    "# EDA on trafiklab resrobot API"
   ]
  },
  {
   "cell_type": "code",
   "execution_count": 1,
   "metadata": {},
   "outputs": [
    {
     "data": {
      "text/plain": [
       "dict_keys(['Trip', 'ResultStatus', 'TechnicalMessages', 'serverVersion', 'dialectVersion', 'planRtTs', 'requestId', 'scrB', 'scrF'])"
      ]
     },
     "execution_count": 1,
     "metadata": {},
     "output_type": "execute_result"
    }
   ],
   "source": [
    "from dotenv import load_dotenv\n",
    "import os\n",
    "import requests\n",
    "\n",
    "load_dotenv()\n",
    "\n",
    "API_KEY = os.getenv(\"API_KEY\")\n",
    "\n",
    "url= f\"https://api.resrobot.se/v2.1/trip?format=json&originId=740000002&destId=740000003&passlist=true&showPassingPoints=true&accessId={API_KEY}\"\n",
    "\n",
    "response = requests.get(url)\n",
    "\n",
    "result = response.json()\n",
    "result.keys()"
   ]
  },
  {
   "cell_type": "code",
   "execution_count": 2,
   "metadata": {},
   "outputs": [
    {
     "data": {
      "text/plain": [
       "5"
      ]
     },
     "execution_count": 2,
     "metadata": {},
     "output_type": "execute_result"
    }
   ],
   "source": [
    "len(result[\"Trip\"])"
   ]
  },
  {
   "cell_type": "code",
   "execution_count": 3,
   "metadata": {},
   "outputs": [
    {
     "data": {
      "text/plain": [
       "({'timeDiffCritical': False},\n",
       " {'TechnicalMessage': [{'value': '2025-01-08 15:51:40', 'key': 'requestTime'},\n",
       "   {'value': 'ttp=16439#16603 plancode0=z1gfr planid=1736311013 planid0=1736311013 planid_adr=1479298166 plancode_adr=q0r10 srvv=5.45.SAMTRAFIKEN.15.0.1 (customer/hcusamtrafiken/release/2023.10.0) [2023-10-19] tlibv=TRFVER: rel/pproxy/4.00.0 2022-10-24 18:24:51 +0200 Relay_EnrichmentProxy v1 jno=1',\n",
       "    'key': 'backendInfo'}]},\n",
       " '1970-01-01T01:00:00.000+01:00',\n",
       " '3|OB|MTµ14µ12499µ12487µ12656µ12690µ0µ0µ365µ12471µ1µ0µ192µ0µ0µ-2147483648µ1µ2|PDHµ6ca21a813cfe8cce8eca3bf2670bb7ce|RDµ8012025|RTµ155140|USµ1|RSµINIT')"
      ]
     },
     "execution_count": 3,
     "metadata": {},
     "output_type": "execute_result"
    }
   ],
   "source": [
    "result[\"ResultStatus\"], result[\"TechnicalMessages\"], result[\"planRtTs\"], result[\"scrB\"]"
   ]
  },
  {
   "cell_type": "code",
   "execution_count": 4,
   "metadata": {},
   "outputs": [
    {
     "data": {
      "text/plain": [
       "dict_keys(['Origin', 'Destination', 'ServiceDays', 'LegList', 'calculation', 'TripStatus', 'idx', 'tripId', 'ctxRecon', 'duration', 'rtDuration', 'checksum'])"
      ]
     },
     "execution_count": 4,
     "metadata": {},
     "output_type": "execute_result"
    }
   ],
   "source": [
    "example_trip = result[\"Trip\"][0]\n",
    "example_trip.keys()"
   ]
  },
  {
   "cell_type": "code",
   "execution_count": 5,
   "metadata": {},
   "outputs": [
    {
     "data": {
      "text/plain": [
       "{'name': 'Göteborg Centralstation',\n",
       " 'type': 'ST',\n",
       " 'id': 'A=1@O=Göteborg Centralstation@X=11973479@Y=57708895@U=1@L=740000002@',\n",
       " 'extId': '740000002',\n",
       " 'lon': 11.973479,\n",
       " 'lat': 57.708895,\n",
       " 'time': '16:07:00',\n",
       " 'date': '2025-01-08',\n",
       " 'minimumChangeDuration': 'PT15M'}"
      ]
     },
     "execution_count": 5,
     "metadata": {},
     "output_type": "execute_result"
    }
   ],
   "source": [
    "example_trip[\"Origin\"]"
   ]
  },
  {
   "cell_type": "code",
   "execution_count": 6,
   "metadata": {},
   "outputs": [
    {
     "data": {
      "text/plain": [
       "{'name': 'Malmö Centralstation',\n",
       " 'type': 'ST',\n",
       " 'id': 'A=1@O=Malmö Centralstation@X=13000910@Y=55609456@U=1@L=740000003@',\n",
       " 'extId': '740000003',\n",
       " 'lon': 13.00091,\n",
       " 'lat': 55.609456,\n",
       " 'routeIdx': 10,\n",
       " 'prognosisType': 'PROGNOSED',\n",
       " 'time': '19:30:00',\n",
       " 'date': '2025-01-08',\n",
       " 'minimumChangeDuration': 'PT15M'}"
      ]
     },
     "execution_count": 6,
     "metadata": {},
     "output_type": "execute_result"
    }
   ],
   "source": [
    "example_trip[\"Destination\"]"
   ]
  },
  {
   "cell_type": "code",
   "execution_count": 7,
   "metadata": {},
   "outputs": [
    {
     "data": {
      "text/plain": [
       "dict_keys(['Origin', 'Destination', 'GisRef', 'GisRoute', 'Product', 'id', 'idx', 'name', 'type', 'duration', 'dist'])"
      ]
     },
     "execution_count": 7,
     "metadata": {},
     "output_type": "execute_result"
    }
   ],
   "source": [
    "example_trip[\"LegList\"][\"Leg\"][0].keys()"
   ]
  },
  {
   "cell_type": "code",
   "execution_count": 8,
   "metadata": {},
   "outputs": [
    {
     "ename": "KeyError",
     "evalue": "'Stops'",
     "output_type": "error",
     "traceback": [
      "\u001b[1;31m---------------------------------------------------------------------------\u001b[0m",
      "\u001b[1;31mKeyError\u001b[0m                                  Traceback (most recent call last)",
      "Cell \u001b[1;32mIn[8], line 1\u001b[0m\n\u001b[1;32m----> 1\u001b[0m stops \u001b[38;5;241m=\u001b[39m \u001b[43mexample_trip\u001b[49m\u001b[43m[\u001b[49m\u001b[38;5;124;43m\"\u001b[39;49m\u001b[38;5;124;43mLegList\u001b[39;49m\u001b[38;5;124;43m\"\u001b[39;49m\u001b[43m]\u001b[49m\u001b[43m[\u001b[49m\u001b[38;5;124;43m\"\u001b[39;49m\u001b[38;5;124;43mLeg\u001b[39;49m\u001b[38;5;124;43m\"\u001b[39;49m\u001b[43m]\u001b[49m\u001b[43m[\u001b[49m\u001b[38;5;241;43m0\u001b[39;49m\u001b[43m]\u001b[49m\u001b[43m[\u001b[49m\u001b[38;5;124;43m\"\u001b[39;49m\u001b[38;5;124;43mStops\u001b[39;49m\u001b[38;5;124;43m\"\u001b[39;49m\u001b[43m]\u001b[49m[\u001b[38;5;124m\"\u001b[39m\u001b[38;5;124mStop\u001b[39m\u001b[38;5;124m\"\u001b[39m]\n\u001b[0;32m      2\u001b[0m stops\n",
      "\u001b[1;31mKeyError\u001b[0m: 'Stops'"
     ]
    }
   ],
   "source": [
    "stops = example_trip[\"LegList\"][\"Leg\"][0][\"Stops\"][\"Stop\"]\n",
    "stops"
   ]
  },
  {
   "cell_type": "code",
   "execution_count": 47,
   "metadata": {},
   "outputs": [
    {
     "name": "stdout",
     "output_type": "stream",
     "text": [
      "Göteborg Centralstation11:40:00\n",
      "Mölndal station11:48:00\n",
      "Kungsbacka station11:59:00\n",
      "Varberg station12:29:00\n",
      "Falkenberg station12:45:00\n",
      "Halmstad Centralstation13:13:00\n",
      "Laholm station13:25:00\n",
      "Båstad station13:32:00\n",
      "Ängelholm station13:43:00\n",
      "Helsingborg Centralstation14:07:00\n",
      "Landskrona station14:19:00\n",
      "Lund Centralstation14:38:00\n",
      "Malmö CentralstationNone\n"
     ]
    }
   ],
   "source": [
    "for stop in stops: \n",
    "    print(f\"{stop['name']}{stop.get('depTime')}\")"
   ]
  },
  {
   "cell_type": "markdown",
   "metadata": {},
   "source": [
    "## Stop lookup"
   ]
  },
  {
   "cell_type": "code",
   "execution_count": 50,
   "metadata": {},
   "outputs": [
    {
     "data": {
      "text/plain": [
       "<Response [200]>"
      ]
     },
     "execution_count": 50,
     "metadata": {},
     "output_type": "execute_result"
    }
   ],
   "source": [
    "location = \"Göteborg\"\n",
    "\n",
    "url = f\"https://api.resrobot.se/v2.1/location.name?input=Göteborg&format=json&accessId={API_KEY}\"\n",
    "requests.get(url)\n",
    "\n",
    "\n"
   ]
  },
  {
   "cell_type": "code",
   "execution_count": null,
   "metadata": {},
   "outputs": [],
   "source": []
  }
 ],
 "metadata": {
  "kernelspec": {
   "display_name": ".venv",
   "language": "python",
   "name": "python3"
  },
  "language_info": {
   "codemirror_mode": {
    "name": "ipython",
    "version": 3
   },
   "file_extension": ".py",
   "mimetype": "text/x-python",
   "name": "python",
   "nbconvert_exporter": "python",
   "pygments_lexer": "ipython3",
   "version": "3.11.7"
  }
 },
 "nbformat": 4,
 "nbformat_minor": 2
}
